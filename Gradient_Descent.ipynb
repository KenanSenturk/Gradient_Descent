{
 "cells": [
  {
   "cell_type": "code",
   "execution_count": 1,
   "id": "efadee56",
   "metadata": {},
   "outputs": [],
   "source": [
    "import pandas as pd\n",
    "import numpy as np"
   ]
  },
  {
   "cell_type": "code",
   "execution_count": 2,
   "id": "bac46017",
   "metadata": {},
   "outputs": [],
   "source": [
    "df = pd.read_csv(\"Salary_dataset.csv\")"
   ]
  },
  {
   "cell_type": "code",
   "execution_count": 3,
   "id": "321650b5",
   "metadata": {},
   "outputs": [],
   "source": [
    "X = df[[\"YearsExperience\"]]\n",
    "y = df[[\"Salary\"]]"
   ]
  },
  {
   "cell_type": "code",
   "execution_count": 4,
   "id": "8a87558e",
   "metadata": {},
   "outputs": [],
   "source": [
    "X_b = np.c_[np.ones((len(X), 1)), X]\n",
    "\n",
    "# Ağırlık vektörünü rastgele değerler ile başlatalım \n",
    "w = np.random.randn(X_b.shape[1], 1)\n",
    "\n",
    "# Öğrenme oranı ve iterasyon sayısını belirleyelim\n",
    "learning_rate = 0.01\n",
    "iterations = 1000\n"
   ]
  },
  {
   "cell_type": "code",
   "execution_count": 5,
   "id": "c12e0f06",
   "metadata": {},
   "outputs": [],
   "source": [
    "def gradient_descent(X, y, w, learning_rate, iterations):\n",
    "    \n",
    "    m = len(y)\n",
    "    \n",
    "    for i in range(iterations):\n",
    "        predictions = X.dot(w)\n",
    "        errors = predictions - y\n",
    "        gradient = (1/m) * X.T.dot(errors)\n",
    "        w = w - learning_rate * gradient\n",
    "        \n",
    "    \n",
    "    return w\n",
    "\n",
    "w_final = gradient_descent(X_b, y.values.reshape(-1, 1), w, learning_rate, iterations)"
   ]
  },
  {
   "cell_type": "code",
   "execution_count": 6,
   "id": "259cc148",
   "metadata": {},
   "outputs": [
    {
     "data": {
      "text/plain": [
       "array([[21912.56848126],\n",
       "       [ 9880.81704312]])"
      ]
     },
     "execution_count": 6,
     "metadata": {},
     "output_type": "execute_result"
    }
   ],
   "source": [
    "w_final"
   ]
  },
  {
   "cell_type": "code",
   "execution_count": null,
   "id": "46f962ac",
   "metadata": {},
   "outputs": [],
   "source": []
  }
 ],
 "metadata": {
  "kernelspec": {
   "display_name": "Python 3 (ipykernel)",
   "language": "python",
   "name": "python3"
  },
  "language_info": {
   "codemirror_mode": {
    "name": "ipython",
    "version": 3
   },
   "file_extension": ".py",
   "mimetype": "text/x-python",
   "name": "python",
   "nbconvert_exporter": "python",
   "pygments_lexer": "ipython3",
   "version": "3.11.5"
  }
 },
 "nbformat": 4,
 "nbformat_minor": 5
}
